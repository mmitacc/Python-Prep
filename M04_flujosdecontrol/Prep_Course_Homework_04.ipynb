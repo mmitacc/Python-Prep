{
 "cells": [
  {
   "attachments": {},
   "cell_type": "markdown",
   "metadata": {},
   "source": [
    "## Flujos de Control"
   ]
  },
  {
   "attachments": {},
   "cell_type": "markdown",
   "metadata": {},
   "source": [
    "1) Crear una variable que contenga un elemento del conjunto de números enteros y luego imprimir por pantalla si es mayor o menor a cero"
   ]
  },
  {
   "cell_type": "code",
   "execution_count": 8,
   "metadata": {},
   "outputs": [
    {
     "name": "stdout",
     "output_type": "stream",
     "text": [
      "El número 5 es mayor a 0,\n"
     ]
    }
   ],
   "source": [
    "a = 5\n",
    "if a > 0:\n",
    "    print(\"El número\",a,\"es mayor a 0,\")\n",
    "elif a < 0:\n",
    "    print(\"El número\",a,\"es menor a 0.\")\n",
    "else:\n",
    "    print(\"El númreo\",a,\"es igual a 0.\")"
   ]
  },
  {
   "attachments": {},
   "cell_type": "markdown",
   "metadata": {},
   "source": [
    "2) Crear dos variables y un condicional que informe si son del mismo tipo de dato"
   ]
  },
  {
   "cell_type": "code",
   "execution_count": 9,
   "metadata": {},
   "outputs": [
    {
     "name": "stdout",
     "output_type": "stream",
     "text": [
      "las 2 variables  NO son del mismo tipo.\n"
     ]
    }
   ],
   "source": [
    "b = 13\n",
    "c = 1.3\n",
    "if type(b) == type(c):\n",
    "    print(\"las 2 variables son del mismo tipo.\")\n",
    "else:\n",
    "    print(\"las 2 variables  NO son del mismo tipo.\")"
   ]
  },
  {
   "attachments": {},
   "cell_type": "markdown",
   "metadata": {},
   "source": [
    "3) Para los valores enteros del 1 al 20, imprimir por pantalla si es par o impar"
   ]
  },
  {
   "cell_type": "code",
   "execution_count": 10,
   "metadata": {},
   "outputs": [
    {
     "name": "stdout",
     "output_type": "stream",
     "text": [
      "El número 1 es INPAR.\n",
      "El número 2 es PAR.\n",
      "El número 3 es INPAR.\n",
      "El número 4 es PAR.\n",
      "El número 5 es INPAR.\n",
      "El número 6 es PAR.\n",
      "El número 7 es INPAR.\n",
      "El número 8 es PAR.\n",
      "El número 9 es INPAR.\n",
      "El número 10 es PAR.\n",
      "El número 11 es INPAR.\n",
      "El número 12 es PAR.\n",
      "El número 13 es INPAR.\n",
      "El número 14 es PAR.\n",
      "El número 15 es INPAR.\n",
      "El número 16 es PAR.\n",
      "El número 17 es INPAR.\n",
      "El número 18 es PAR.\n",
      "El número 19 es INPAR.\n",
      "El número 20 es PAR.\n"
     ]
    }
   ],
   "source": [
    "for d in range(1,21):\n",
    "    if (d % 2) == 0:\n",
    "        print(\"El número\",d,\"es PAR.\")\n",
    "    else:\n",
    "        print(\"El número\",d,\"es INPAR.\")"
   ]
  },
  {
   "attachments": {},
   "cell_type": "markdown",
   "metadata": {},
   "source": [
    "4) En un ciclo for mostrar para los valores entre 0 y 5 el resultado de elevarlo a la potencia igual a 3"
   ]
  },
  {
   "cell_type": "code",
   "execution_count": 11,
   "metadata": {},
   "outputs": [
    {
     "name": "stdout",
     "output_type": "stream",
     "text": [
      "El número 0 elevado a 3, es igual a: 0\n",
      "El número 1 elevado a 3, es igual a: 1\n",
      "El número 2 elevado a 3, es igual a: 8\n",
      "El número 3 elevado a 3, es igual a: 27\n",
      "El número 4 elevado a 3, es igual a: 64\n",
      "El número 5 elevado a 3, es igual a: 125\n"
     ]
    }
   ],
   "source": [
    "for e in range(0,6):\n",
    "    print(\"El número\",e,\"elevado a 3, es igual a:\",e**3)"
   ]
  },
  {
   "attachments": {},
   "cell_type": "markdown",
   "metadata": {},
   "source": [
    "5) Crear una variable que contenga un número entero y realizar un ciclo for la misma cantidad de ciclos"
   ]
  },
  {
   "cell_type": "code",
   "execution_count": 12,
   "metadata": {},
   "outputs": [
    {
     "name": "stdout",
     "output_type": "stream",
     "text": [
      "Ciclo número 1\n",
      "Ciclo número 2\n",
      "Ciclo número 3\n",
      "Ciclo número 4\n",
      "Ciclo número 5\n",
      "Ciclo número 6\n"
     ]
    }
   ],
   "source": [
    "f = 6\n",
    "for g in range(1,f+1):\n",
    "    print(\"Ciclo número\",g)"
   ]
  },
  {
   "attachments": {},
   "cell_type": "markdown",
   "metadata": {},
   "source": [
    "6) Utilizar un ciclo while para realizar el factorial de un número guardado en una variable, sólo si la variable contiene un número entero mayor a 0"
   ]
  },
  {
   "cell_type": "code",
   "execution_count": 13,
   "metadata": {},
   "outputs": [
    {
     "name": "stdout",
     "output_type": "stream",
     "text": [
      "El factorial del número 5, es igual a: 120\n"
     ]
    }
   ],
   "source": [
    "h = 5\n",
    "print(\"El factorial del número\",h, end=\"\")\n",
    "if type(h) == int and h > 0:\n",
    "    i = h\n",
    "    while h > 1:\n",
    "        h -= 1\n",
    "        i *= h\n",
    "    print(\", es igual a:\", i)"
   ]
  },
  {
   "attachments": {},
   "cell_type": "markdown",
   "metadata": {},
   "source": [
    "7) Crear un ciclo for dentro de un ciclo while"
   ]
  },
  {
   "cell_type": "code",
   "execution_count": 14,
   "metadata": {},
   "outputs": [
    {
     "name": "stdout",
     "output_type": "stream",
     "text": [
      "Bucle FOR número 1 y Bucle WHILE número 1\n",
      "Bucle FOR número 2 y Bucle WHILE número 1\n",
      "Bucle FOR número 2 y Bucle WHILE número 2\n",
      "Bucle FOR número 3 y Bucle WHILE número 1\n",
      "Bucle FOR número 3 y Bucle WHILE número 2\n",
      "Bucle FOR número 3 y Bucle WHILE número 3\n",
      "Bucle FOR número 4 y Bucle WHILE número 1\n",
      "Bucle FOR número 4 y Bucle WHILE número 2\n",
      "Bucle FOR número 4 y Bucle WHILE número 3\n",
      "Bucle FOR número 4 y Bucle WHILE número 4\n"
     ]
    }
   ],
   "source": [
    "for j in range(1, 5):\n",
    "    k = 1\n",
    "    while k <= j:\n",
    "        print(\"Bucle FOR número\",j,\"y Bucle WHILE número\",k)\n",
    "        k += 1\n"
   ]
  },
  {
   "attachments": {},
   "cell_type": "markdown",
   "metadata": {},
   "source": [
    "8) Crear un ciclo while dentro de un ciclo for"
   ]
  },
  {
   "cell_type": "code",
   "execution_count": 15,
   "metadata": {},
   "outputs": [
    {
     "name": "stdout",
     "output_type": "stream",
     "text": [
      "Bucle WHILE número 1 y Bucle FOR número 1\n",
      "Bucle WHILE número 2 y Bucle FOR número 1\n",
      "Bucle WHILE número 2 y Bucle FOR número 2\n",
      "Bucle WHILE número 3 y Bucle FOR número 1\n",
      "Bucle WHILE número 3 y Bucle FOR número 2\n",
      "Bucle WHILE número 3 y Bucle FOR número 3\n",
      "Bucle WHILE número 4 y Bucle FOR número 1\n",
      "Bucle WHILE número 4 y Bucle FOR número 2\n",
      "Bucle WHILE número 4 y Bucle FOR número 3\n",
      "Bucle WHILE número 4 y Bucle FOR número 4\n"
     ]
    }
   ],
   "source": [
    "l = 5\n",
    "m = 1\n",
    "while m < l:\n",
    "    for n in range(1, m+1):\n",
    "        print(\"Bucle WHILE número\",m,\"y Bucle FOR número\",n)\n",
    "    m += 1"
   ]
  },
  {
   "attachments": {},
   "cell_type": "markdown",
   "metadata": {},
   "source": [
    "9) Imprimir los números primos existentes entre 0 y 30"
   ]
  },
  {
   "cell_type": "code",
   "execution_count": 16,
   "metadata": {},
   "outputs": [
    {
     "name": "stdout",
     "output_type": "stream",
     "text": [
      "Número primo: 2\n",
      "Número primo: 3\n",
      "Número primo: 5\n",
      "Número primo: 7\n",
      "Número primo: 11\n",
      "Número primo: 13\n",
      "Número primo: 17\n",
      "Número primo: 19\n",
      "Número primo: 23\n",
      "Número primo: 29\n"
     ]
    }
   ],
   "source": [
    "# Un número primo es un número natural mayor que 1, y que tiene únicamente dos divisores\n",
    "# positivos distintos: él mismo y el 1.\n",
    "o = 30 # Delimitador de números primos del 1 al 30\n",
    "count_09 = 0\n",
    "for p in range(2, o+1):\n",
    "    q = False\n",
    "    for r in range(2, p):\n",
    "        count_09 += 1 #Contador de bucles del ejercicio 09\n",
    "        if (p % r) == 0:\n",
    "            q = True\n",
    "    if q == False:\n",
    "        print(\"Número primo:\",p)\n"
   ]
  },
  {
   "attachments": {},
   "cell_type": "markdown",
   "metadata": {},
   "source": [
    "10) ¿Se puede mejorar el proceso del punto 9? Utilizar las sentencias break y/ó continue para tal fin"
   ]
  },
  {
   "cell_type": "code",
   "execution_count": 17,
   "metadata": {},
   "outputs": [
    {
     "name": "stdout",
     "output_type": "stream",
     "text": [
      "Número primo: 2\n",
      "Número primo: 3\n",
      "Número primo: 5\n",
      "Número primo: 7\n",
      "Número primo: 11\n",
      "Número primo: 13\n",
      "Número primo: 17\n",
      "Número primo: 19\n",
      "Número primo: 23\n",
      "Número primo: 29\n"
     ]
    }
   ],
   "source": [
    "s = 30\n",
    "count_10 = 0\n",
    "for t in range(2, o+1):\n",
    "    for u in range(2, t+1):\n",
    "        count_10 += 1 #Contador de bucles del ejercicio 10\n",
    "        if t == u:\n",
    "            print(\"Número primo:\",t)\n",
    "        elif not(bool(t % u)):\n",
    "            break\n"
   ]
  },
  {
   "attachments": {},
   "cell_type": "markdown",
   "metadata": {},
   "source": [
    "11) En los puntos 9 y 10, se diseño un código que encuentra números primos y además se lo optimizó. ¿Es posible saber en qué medida se optimizó?"
   ]
  },
  {
   "cell_type": "code",
   "execution_count": 18,
   "metadata": {},
   "outputs": [
    {
     "name": "stdout",
     "output_type": "stream",
     "text": [
      "El número de bucles del ejercicio 09 es 406\n",
      "El número de bucles del ejercicio 10 es 145\n"
     ]
    }
   ],
   "source": [
    "# Se optimizó cuando se hicieron menos bucles que el anterior algoritmo,\n",
    "# minimizando con ello el costo computacional\n",
    "print(\"El número de bucles del ejercicio 09 es\",count_09)\n",
    "print(\"El número de bucles del ejercicio 10 es\",count_10)"
   ]
  },
  {
   "attachments": {},
   "cell_type": "markdown",
   "metadata": {},
   "source": [
    "12) Aplicando continue, armar un ciclo while que solo imprima los valores divisibles por 12, dentro del rango de números de 100 a 300"
   ]
  },
  {
   "cell_type": "code",
   "execution_count": 19,
   "metadata": {},
   "outputs": [
    {
     "name": "stdout",
     "output_type": "stream",
     "text": [
      "- El número 108  es divisible ó múltiplo del número 12.\n",
      "- El número 120  es divisible ó múltiplo del número 12.\n",
      "- El número 132  es divisible ó múltiplo del número 12.\n",
      "- El número 144  es divisible ó múltiplo del número 12.\n",
      "- El número 156  es divisible ó múltiplo del número 12.\n",
      "- El número 168  es divisible ó múltiplo del número 12.\n",
      "- El número 180  es divisible ó múltiplo del número 12.\n",
      "- El número 192  es divisible ó múltiplo del número 12.\n",
      "- El número 204  es divisible ó múltiplo del número 12.\n",
      "- El número 216  es divisible ó múltiplo del número 12.\n",
      "- El número 228  es divisible ó múltiplo del número 12.\n",
      "- El número 240  es divisible ó múltiplo del número 12.\n",
      "- El número 252  es divisible ó múltiplo del número 12.\n",
      "- El número 264  es divisible ó múltiplo del número 12.\n",
      "- El número 276  es divisible ó múltiplo del número 12.\n",
      "- El número 288  es divisible ó múltiplo del número 12.\n",
      "- El número 300  es divisible ó múltiplo del número 12.\n"
     ]
    }
   ],
   "source": [
    "vInitial = 100\n",
    "vFinal = 300\n",
    "while vInitial <= vFinal:\n",
    "    if bool(vInitial % 12):\n",
    "        vInitial += 1\n",
    "        continue\n",
    "    print(\"- El número\", vInitial,\" es divisible ó múltiplo del número 12.\")\n",
    "    vInitial += 12"
   ]
  },
  {
   "attachments": {},
   "cell_type": "markdown",
   "metadata": {},
   "source": [
    "13) Utilizar la función **input()** que permite hacer ingresos por teclado, para encontrar números primos y dar la opción al usario de buscar el siguiente"
   ]
  },
  {
   "cell_type": "code",
   "execution_count": 20,
   "metadata": {},
   "outputs": [
    {
     "name": "stdout",
     "output_type": "stream",
     "text": [
      "El número 11 es un número primo válido.\n",
      "El número 13 es el siguiente número primo.\n",
      "El número 17 es el siguiente número primo.\n",
      "El número 19 es el siguiente número primo.\n",
      "El número 23 es el siguiente número primo.\n",
      "El número 29 es el siguiente número primo.\n",
      "El número 31 es el siguiente número primo.\n",
      "Gracias, eso es todo!\n"
     ]
    }
   ],
   "source": [
    "try:\n",
    "    w = input(\"Hola. Ingrese un número primo: \")\n",
    "    x = int(w)\n",
    "    if x > 1:\n",
    "        z = \"\"\n",
    "        for y in range(2, x+1):\n",
    "                if x == y:\n",
    "                    print(\"El número\",x,\"es un número primo válido.\")\n",
    "                    z = input(\"Si desea saber el siguiente número primo, escriba: s  ==> \")\n",
    "                    while z == \"s\":\n",
    "                        x += 1\n",
    "                        for y in range(2, x+1):\n",
    "                            if x == y:\n",
    "                                print(\"El número\",x,\"es el siguiente número primo.\")\n",
    "                                z = input(\"Si desea saber el siguiente número primo, escriba: s  ==> \")\n",
    "                            elif x % y == 0:\n",
    "                                break\n",
    "                    print(\"Gracias, eso es todo!\")\n",
    "                elif x % y == 0:\n",
    "                    print(\"El número\",x,\"no es un número primo.\")\n",
    "                    break\n",
    "    else:\n",
    "        print(\"Por definición todo número primo es mayor a 1.\")      \n",
    "except ValueError:\n",
    "    print(\"El dato <\",w,\"> no es un número entero.\")"
   ]
  },
  {
   "attachments": {},
   "cell_type": "markdown",
   "metadata": {},
   "source": [
    "14) Crear un ciclo while que encuentre dentro del rango de 100 a 300 el primer número divisible por 3 y además múltiplo de 6"
   ]
  },
  {
   "cell_type": "code",
   "execution_count": 21,
   "metadata": {},
   "outputs": [
    {
     "name": "stdout",
     "output_type": "stream",
     "text": [
      "Se encontró el número < 102 > que es divisible por 3 y múltiplo de 6.\n"
     ]
    }
   ],
   "source": [
    "aNumberInitial = 100\n",
    "aNumberFinal = 300\n",
    "while aNumberInitial <= aNumberFinal:\n",
    "    if (aNumberInitial % 3) == 0 and (aNumberInitial % 6) == 0: #Divisible por 3 es solo por ser explicito!\n",
    "        print(\"Se encontró el número <\", aNumberInitial,\"> que es divisible por 3 y múltiplo de 6.\")\n",
    "        aNumberInitial = aNumberFinal + 1\n",
    "    else:\n",
    "        aNumberInitial += 1"
   ]
  }
 ],
 "metadata": {
  "interpreter": {
   "hash": "c85384e4cb51c8b72350f3a8712cc8351fdc3955e32a27f9b60c6242ab125f01"
  },
  "kernelspec": {
   "display_name": "Python 3 (ipykernel)",
   "language": "python",
   "name": "python3"
  },
  "language_info": {
   "codemirror_mode": {
    "name": "ipython",
    "version": 3
   },
   "file_extension": ".py",
   "mimetype": "text/x-python",
   "name": "python",
   "nbconvert_exporter": "python",
   "pygments_lexer": "ipython3",
   "version": "3.11.4"
  }
 },
 "nbformat": 4,
 "nbformat_minor": 4
}
